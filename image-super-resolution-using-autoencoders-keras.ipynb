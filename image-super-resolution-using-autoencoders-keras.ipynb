{
 "cells": [
  {
   "cell_type": "markdown",
   "metadata": {
    "papermill": {
     "duration": 0.018342,
     "end_time": "2021-02-25T05:09:47.591385",
     "exception": false,
     "start_time": "2021-02-25T05:09:47.573043",
     "status": "completed"
    },
    "tags": []
   },
   "source": [
    "## Necessary Library Imports"
   ]
  },
  {
   "cell_type": "code",
   "execution_count": 1,
   "metadata": {
    "_cell_guid": "b1076dfc-b9ad-4769-8c92-a6c4dae69d19",
    "_uuid": "8f2839f25d086af736a60e9eeb907d3b93b6e0e5",
    "execution": {
     "iopub.execute_input": "2021-02-25T05:09:47.631573Z",
     "iopub.status.busy": "2021-02-25T05:09:47.630951Z",
     "iopub.status.idle": "2021-02-25T05:09:53.046184Z",
     "shell.execute_reply": "2021-02-25T05:09:53.045069Z"
    },
    "papermill": {
     "duration": 5.437874,
     "end_time": "2021-02-25T05:09:53.046392",
     "exception": false,
     "start_time": "2021-02-25T05:09:47.608518",
     "status": "completed"
    },
    "tags": []
   },
   "outputs": [],
   "source": [
    "from piltonumpy_helper import pil_to_numpy\n",
    "import os; import keras; import numpy as np; import pandas as pd; import shutil; from PIL import Image; import cv2\n",
    "from tqdm import tqdm\n",
    "from skimage.transform import resize, rescale\n",
    "\n",
    "import matplotlib.pyplot as plt; import seaborn as sns;\n",
    "\n",
    "from keras.layers import *\n",
    "from keras.models import *\n",
    "\n",
    "from tensorflow.keras.layers import Add\n",
    "from keras.preprocessing.image import ImageDataGenerator"
   ]
  },
  {
   "cell_type": "markdown",
   "metadata": {
    "papermill": {
     "duration": 0.01785,
     "end_time": "2021-02-25T05:09:53.082541",
     "exception": false,
     "start_time": "2021-02-25T05:09:53.064691",
     "status": "completed"
    },
    "tags": []
   },
   "source": [
    "## Data Preprocessing"
   ]
  },
  {
   "cell_type": "code",
   "execution_count": 2,
   "metadata": {
    "execution": {
     "iopub.execute_input": "2021-02-25T05:09:53.121161Z",
     "iopub.status.busy": "2021-02-25T05:09:53.120447Z",
     "iopub.status.idle": "2021-02-25T05:09:53.122999Z",
     "shell.execute_reply": "2021-02-25T05:09:53.123372Z"
    },
    "papermill": {
     "duration": 0.023465,
     "end_time": "2021-02-25T05:09:53.123498",
     "exception": false,
     "start_time": "2021-02-25T05:09:53.100033",
     "status": "completed"
    },
    "tags": []
   },
   "outputs": [],
   "source": [
    "DATA_DIR = '/kaggle/input/the-car-connection-picture-dataset'\n",
    "LOW_RES = '/kaggle/working/train_lowres'"
   ]
  },
  {
   "cell_type": "code",
   "execution_count": 3,
   "metadata": {
    "execution": {
     "iopub.execute_input": "2021-02-25T05:09:53.163563Z",
     "iopub.status.busy": "2021-02-25T05:09:53.162871Z",
     "iopub.status.idle": "2021-02-25T05:09:53.165868Z",
     "shell.execute_reply": "2021-02-25T05:09:53.165410Z"
    },
    "papermill": {
     "duration": 0.024007,
     "end_time": "2021-02-25T05:09:53.165975",
     "exception": false,
     "start_time": "2021-02-25T05:09:53.141968",
     "status": "completed"
    },
    "tags": []
   },
   "outputs": [],
   "source": [
    "os.mkdir('/kaggle/working/train_lowres')"
   ]
  },
  {
   "cell_type": "code",
   "execution_count": 4,
   "metadata": {
    "execution": {
     "iopub.execute_input": "2021-02-25T05:09:53.204942Z",
     "iopub.status.busy": "2021-02-25T05:09:53.204114Z",
     "iopub.status.idle": "2021-02-25T05:09:53.206552Z",
     "shell.execute_reply": "2021-02-25T05:09:53.206062Z"
    },
    "papermill": {
     "duration": 0.023114,
     "end_time": "2021-02-25T05:09:53.206661",
     "exception": false,
     "start_time": "2021-02-25T05:09:53.183547",
     "status": "completed"
    },
    "tags": []
   },
   "outputs": [],
   "source": [
    "os.chdir('/kaggle/working/train_lowres')"
   ]
  },
  {
   "cell_type": "code",
   "execution_count": 5,
   "metadata": {
    "execution": {
     "iopub.execute_input": "2021-02-25T05:09:53.246926Z",
     "iopub.status.busy": "2021-02-25T05:09:53.246057Z",
     "iopub.status.idle": "2021-02-25T05:09:54.689584Z",
     "shell.execute_reply": "2021-02-25T05:09:54.688521Z"
    },
    "papermill": {
     "duration": 1.465395,
     "end_time": "2021-02-25T05:09:54.689754",
     "exception": false,
     "start_time": "2021-02-25T05:09:53.224359",
     "status": "completed"
    },
    "tags": []
   },
   "outputs": [],
   "source": [
    "files = os.listdir(DATA_DIR)"
   ]
  },
  {
   "cell_type": "code",
   "execution_count": 6,
   "metadata": {
    "execution": {
     "iopub.execute_input": "2021-02-25T05:09:54.734486Z",
     "iopub.status.busy": "2021-02-25T05:09:54.733716Z",
     "iopub.status.idle": "2021-02-25T05:09:54.737080Z",
     "shell.execute_reply": "2021-02-25T05:09:54.737480Z"
    },
    "papermill": {
     "duration": 0.029587,
     "end_time": "2021-02-25T05:09:54.737619",
     "exception": false,
     "start_time": "2021-02-25T05:09:54.708032",
     "status": "completed"
    },
    "tags": []
   },
   "outputs": [
    {
     "data": {
      "text/plain": [
       "64467"
      ]
     },
     "execution_count": 6,
     "metadata": {},
     "output_type": "execute_result"
    }
   ],
   "source": [
    "len(files)"
   ]
  },
  {
   "cell_type": "code",
   "execution_count": 7,
   "metadata": {
    "execution": {
     "iopub.execute_input": "2021-02-25T05:09:54.806645Z",
     "iopub.status.busy": "2021-02-25T05:09:54.805543Z",
     "iopub.status.idle": "2021-02-25T05:09:54.808460Z",
     "shell.execute_reply": "2021-02-25T05:09:54.808058Z"
    },
    "papermill": {
     "duration": 0.0525,
     "end_time": "2021-02-25T05:09:54.808567",
     "exception": false,
     "start_time": "2021-02-25T05:09:54.756067",
     "status": "completed"
    },
    "tags": []
   },
   "outputs": [],
   "source": [
    "files.sort()"
   ]
  },
  {
   "cell_type": "code",
   "execution_count": null,
   "metadata": {
    "papermill": {
     "duration": 0.018265,
     "end_time": "2021-02-25T05:09:54.845531",
     "exception": false,
     "start_time": "2021-02-25T05:09:54.827266",
     "status": "completed"
    },
    "tags": []
   },
   "outputs": [],
   "source": []
  },
  {
   "cell_type": "code",
   "execution_count": 8,
   "metadata": {
    "execution": {
     "iopub.execute_input": "2021-02-25T05:09:54.886316Z",
     "iopub.status.busy": "2021-02-25T05:09:54.885628Z",
     "iopub.status.idle": "2021-02-25T05:09:54.888460Z",
     "shell.execute_reply": "2021-02-25T05:09:54.888066Z"
    },
    "papermill": {
     "duration": 0.02445,
     "end_time": "2021-02-25T05:09:54.888564",
     "exception": false,
     "start_time": "2021-02-25T05:09:54.864114",
     "status": "completed"
    },
    "tags": []
   },
   "outputs": [],
   "source": [
    "import multiprocessing\n",
    "from multiprocessing import Process"
   ]
  },
  {
   "cell_type": "code",
   "execution_count": 9,
   "metadata": {
    "execution": {
     "iopub.execute_input": "2021-02-25T05:09:54.931218Z",
     "iopub.status.busy": "2021-02-25T05:09:54.930532Z",
     "iopub.status.idle": "2021-02-25T05:09:54.933865Z",
     "shell.execute_reply": "2021-02-25T05:09:54.933371Z"
    },
    "papermill": {
     "duration": 0.026951,
     "end_time": "2021-02-25T05:09:54.933984",
     "exception": false,
     "start_time": "2021-02-25T05:09:54.907033",
     "status": "completed"
    },
    "tags": []
   },
   "outputs": [],
   "source": [
    "\n",
    "def make_low_res(files):\n",
    "    for file in tqdm(files):\n",
    "        img = Image.open(DATA_DIR + '/' + file)\n",
    "        img = pil_to_numpy(img)\n",
    "        #img = img/255.0\n",
    "        img = cv2.resize(img, (256, 256))\n",
    "        img = cv2.resize(cv2.resize(img, None, fx = 0.5, fy = 0.5, interpolation = cv2.INTER_CUBIC), None, fx = 2, fy = 2, interpolation = cv2.INTER_CUBIC)\n",
    "        im = Image.fromarray(img)\n",
    "        im.save(file)\n",
    "    "
   ]
  },
  {
   "cell_type": "code",
   "execution_count": 10,
   "metadata": {
    "execution": {
     "iopub.execute_input": "2021-02-25T05:09:54.974963Z",
     "iopub.status.busy": "2021-02-25T05:09:54.974138Z",
     "iopub.status.idle": "2021-02-25T05:09:54.977166Z",
     "shell.execute_reply": "2021-02-25T05:09:54.976644Z"
    },
    "papermill": {
     "duration": 0.02466,
     "end_time": "2021-02-25T05:09:54.977265",
     "exception": false,
     "start_time": "2021-02-25T05:09:54.952605",
     "status": "completed"
    },
    "tags": []
   },
   "outputs": [],
   "source": [
    "import time"
   ]
  },
  {
   "cell_type": "code",
   "execution_count": 11,
   "metadata": {
    "execution": {
     "iopub.execute_input": "2021-02-25T05:09:55.024997Z",
     "iopub.status.busy": "2021-02-25T05:09:55.024324Z",
     "iopub.status.idle": "2021-02-25T05:14:52.740469Z",
     "shell.execute_reply": "2021-02-25T05:14:52.739243Z"
    },
    "papermill": {
     "duration": 297.744705,
     "end_time": "2021-02-25T05:14:52.740613",
     "exception": false,
     "start_time": "2021-02-25T05:09:54.995908",
     "status": "completed"
    },
    "tags": []
   },
   "outputs": [
    {
     "name": "stderr",
     "output_type": "stream",
     "text": [
      "100%|██████████| 4467/4467 [01:41<00:00, 44.21it/s]\n",
      "100%|██████████| 15000/15000 [04:55<00:00, 50.81it/s]\n",
      "100%|██████████| 15000/15000 [04:57<00:00, 50.47it/s]\n",
      "100%|██████████| 15000/15000 [04:57<00:00, 50.44it/s]\n",
      "100%|██████████| 15000/15000 [04:57<00:00, 50.41it/s]\n"
     ]
    },
    {
     "name": "stdout",
     "output_type": "stream",
     "text": [
      "time elapsed ->  297.71193504333496\n"
     ]
    }
   ],
   "source": [
    "# Making the low resolution folder in parallel processing\n",
    "\n",
    "start = time.time()\n",
    "\n",
    "p1 = Process(target = make_low_res, args = (files[:15000],))\n",
    "p2 = Process(target = make_low_res, args = (files[15000:30000],))\n",
    "p3 = Process(target = make_low_res, args = (files[30000:45000],))\n",
    "p4 = Process(target = make_low_res, args = (files[45000:60000],))\n",
    "p5 = Process(target = make_low_res, args = (files[60000:],))\n",
    "\n",
    "p1.start()\n",
    "p2.start()\n",
    "p3.start()\n",
    "p4.start()\n",
    "p5.start()\n",
    "\n",
    "p1.join()\n",
    "p2.join()\n",
    "p3.join()\n",
    "p4.join()\n",
    "p5.join()\n",
    "\n",
    "end = time.time()\n",
    "\n",
    "print('time elapsed -> ', end - start)"
   ]
  },
  {
   "cell_type": "code",
   "execution_count": 12,
   "metadata": {
    "execution": {
     "iopub.execute_input": "2021-02-25T05:14:58.183661Z",
     "iopub.status.busy": "2021-02-25T05:14:58.182919Z",
     "iopub.status.idle": "2021-02-25T05:14:58.237360Z",
     "shell.execute_reply": "2021-02-25T05:14:58.237785Z"
    },
    "papermill": {
     "duration": 2.816757,
     "end_time": "2021-02-25T05:14:58.237930",
     "exception": false,
     "start_time": "2021-02-25T05:14:55.421173",
     "status": "completed"
    },
    "tags": []
   },
   "outputs": [
    {
     "data": {
      "text/plain": [
       "64467"
      ]
     },
     "execution_count": 12,
     "metadata": {},
     "output_type": "execute_result"
    }
   ],
   "source": [
    "len(os.listdir('/kaggle/working/train_lowres'))"
   ]
  },
  {
   "cell_type": "markdown",
   "metadata": {
    "papermill": {
     "duration": 3.717285,
     "end_time": "2021-02-25T05:15:04.708510",
     "exception": false,
     "start_time": "2021-02-25T05:15:00.991225",
     "status": "completed"
    },
    "tags": []
   },
   "source": [
    "### Make Datagenerators"
   ]
  },
  {
   "cell_type": "code",
   "execution_count": 13,
   "metadata": {
    "execution": {
     "iopub.execute_input": "2021-02-25T05:15:10.126912Z",
     "iopub.status.busy": "2021-02-25T05:15:10.126045Z",
     "iopub.status.idle": "2021-02-25T05:15:10.128627Z",
     "shell.execute_reply": "2021-02-25T05:15:10.128216Z"
    },
    "papermill": {
     "duration": 2.725173,
     "end_time": "2021-02-25T05:15:10.128765",
     "exception": false,
     "start_time": "2021-02-25T05:15:07.403592",
     "status": "completed"
    },
    "tags": []
   },
   "outputs": [],
   "source": [
    "\n",
    "\n",
    "def fetch_data_generator(files, batch_size = 64):\n",
    "    while True:\n",
    "        #\n",
    "        batch_files = np.random.choice(files, batch_size)\n",
    "        \n",
    "        batch_x = [] ; batch_y = [];\n",
    "        \n",
    "        for file in batch_files:\n",
    "            img = cv2.resize(pil_to_numpy(Image.open(DATA_DIR + '/' + file)).astype(float), (256,256))\n",
    "            img_low = pil_to_numpy(Image.open(LOW_RES + '/' + file)).astype(float)\n",
    "            \n",
    "            batch_x.append(img_low/255.0)\n",
    "            batch_y.append(img/255.0)\n",
    "        \n",
    "                \n",
    "        yield np.array(batch_x), np.array(batch_y)"
   ]
  },
  {
   "cell_type": "code",
   "execution_count": null,
   "metadata": {
    "papermill": {
     "duration": 2.872863,
     "end_time": "2021-02-25T05:15:16.249878",
     "exception": false,
     "start_time": "2021-02-25T05:15:13.377015",
     "status": "completed"
    },
    "tags": []
   },
   "outputs": [],
   "source": []
  },
  {
   "cell_type": "code",
   "execution_count": null,
   "metadata": {
    "papermill": {
     "duration": 2.743485,
     "end_time": "2021-02-25T05:15:21.738814",
     "exception": false,
     "start_time": "2021-02-25T05:15:18.995329",
     "status": "completed"
    },
    "tags": []
   },
   "outputs": [],
   "source": []
  },
  {
   "cell_type": "markdown",
   "metadata": {
    "papermill": {
     "duration": 2.672518,
     "end_time": "2021-02-25T05:15:27.609548",
     "exception": false,
     "start_time": "2021-02-25T05:15:24.937030",
     "status": "completed"
    },
    "tags": []
   },
   "source": [
    "## Model Creation"
   ]
  },
  {
   "cell_type": "code",
   "execution_count": null,
   "metadata": {
    "papermill": {
     "duration": 2.696658,
     "end_time": "2021-02-25T05:15:33.011451",
     "exception": false,
     "start_time": "2021-02-25T05:15:30.314793",
     "status": "completed"
    },
    "tags": []
   },
   "outputs": [],
   "source": []
  },
  {
   "cell_type": "markdown",
   "metadata": {
    "papermill": {
     "duration": 2.687833,
     "end_time": "2021-02-25T05:15:39.478484",
     "exception": false,
     "start_time": "2021-02-25T05:15:36.790651",
     "status": "completed"
    },
    "tags": []
   },
   "source": [
    "Encoder Network"
   ]
  },
  {
   "cell_type": "code",
   "execution_count": 14,
   "metadata": {
    "execution": {
     "iopub.execute_input": "2021-02-25T05:15:44.854579Z",
     "iopub.status.busy": "2021-02-25T05:15:44.853822Z",
     "iopub.status.idle": "2021-02-25T05:15:44.856886Z",
     "shell.execute_reply": "2021-02-25T05:15:44.857305Z"
    },
    "papermill": {
     "duration": 2.674793,
     "end_time": "2021-02-25T05:15:44.857444",
     "exception": false,
     "start_time": "2021-02-25T05:15:42.182651",
     "status": "completed"
    },
    "tags": []
   },
   "outputs": [
    {
     "data": {
      "text/plain": [
       "\"encoder = Sequential()\\nencoder.add(Conv2D(64, (3,3) , padding = 'same', activation = 'relu', input_shape = (256, 256, 3)))\\nencoder.add(Conv2D(64, (3,3), padding = 'same', activation = 'relu'))\\nencoder.add(MaxPooling2D((2,2), padding = 'same'))\\nencoder.add(Dropout(0.3))\\nencoder.add(Conv2D(128, (3,3), padding = 'same', activation = 'relu'))\\nencoder.add(Conv2D(128, (3,3), padding = 'same', activation = 'relu'))\\nencoder.add(MaxPooling2D((2,2), padding = 'same'))\\nencoder.add(Conv2D(256, (3,3), padding = 'same', activation = 'relu'))\\nencoder.summary()\""
      ]
     },
     "execution_count": 14,
     "metadata": {},
     "output_type": "execute_result"
    }
   ],
   "source": [
    "\"\"\"encoder = Sequential()\n",
    "encoder.add(Conv2D(64, (3,3) , padding = 'same', activation = 'relu', input_shape = (256, 256, 3)))\n",
    "encoder.add(Conv2D(64, (3,3), padding = 'same', activation = 'relu'))\n",
    "encoder.add(MaxPooling2D((2,2), padding = 'same'))\n",
    "encoder.add(Dropout(0.3))\n",
    "encoder.add(Conv2D(128, (3,3), padding = 'same', activation = 'relu'))\n",
    "encoder.add(Conv2D(128, (3,3), padding = 'same', activation = 'relu'))\n",
    "encoder.add(MaxPooling2D((2,2), padding = 'same'))\n",
    "encoder.add(Conv2D(256, (3,3), padding = 'same', activation = 'relu'))\n",
    "encoder.summary()\"\"\""
   ]
  },
  {
   "cell_type": "code",
   "execution_count": null,
   "metadata": {
    "papermill": {
     "duration": 2.654252,
     "end_time": "2021-02-25T05:15:50.702969",
     "exception": false,
     "start_time": "2021-02-25T05:15:48.048717",
     "status": "completed"
    },
    "tags": []
   },
   "outputs": [],
   "source": []
  },
  {
   "cell_type": "code",
   "execution_count": null,
   "metadata": {
    "papermill": {
     "duration": 2.666892,
     "end_time": "2021-02-25T05:15:56.079180",
     "exception": false,
     "start_time": "2021-02-25T05:15:53.412288",
     "status": "completed"
    },
    "tags": []
   },
   "outputs": [],
   "source": []
  },
  {
   "cell_type": "markdown",
   "metadata": {
    "papermill": {
     "duration": 2.714679,
     "end_time": "2021-02-25T05:16:02.050189",
     "exception": false,
     "start_time": "2021-02-25T05:15:59.335510",
     "status": "completed"
    },
    "tags": []
   },
   "source": [
    "Decoder Network"
   ]
  },
  {
   "cell_type": "markdown",
   "metadata": {
    "papermill": {
     "duration": 3.40785,
     "end_time": "2021-02-25T05:16:08.142266",
     "exception": false,
     "start_time": "2021-02-25T05:16:04.734416",
     "status": "completed"
    },
    "tags": []
   },
   "source": [
    "the decoder network would be the extension of the encoder "
   ]
  },
  {
   "cell_type": "code",
   "execution_count": 15,
   "metadata": {
    "execution": {
     "iopub.execute_input": "2021-02-25T05:16:13.812642Z",
     "iopub.status.busy": "2021-02-25T05:16:13.811680Z",
     "iopub.status.idle": "2021-02-25T05:16:13.814953Z",
     "shell.execute_reply": "2021-02-25T05:16:13.815415Z"
    },
    "papermill": {
     "duration": 2.724853,
     "end_time": "2021-02-25T05:16:13.815559",
     "exception": false,
     "start_time": "2021-02-25T05:16:11.090706",
     "status": "completed"
    },
    "tags": []
   },
   "outputs": [],
   "source": [
    "#autoencoder = encoder"
   ]
  },
  {
   "cell_type": "code",
   "execution_count": 16,
   "metadata": {
    "execution": {
     "iopub.execute_input": "2021-02-25T05:16:19.635665Z",
     "iopub.status.busy": "2021-02-25T05:16:19.634353Z",
     "iopub.status.idle": "2021-02-25T05:16:19.637700Z",
     "shell.execute_reply": "2021-02-25T05:16:19.637291Z"
    },
    "papermill": {
     "duration": 3.154841,
     "end_time": "2021-02-25T05:16:19.637833",
     "exception": false,
     "start_time": "2021-02-25T05:16:16.482992",
     "status": "completed"
    },
    "tags": []
   },
   "outputs": [],
   "source": [
    "#autoencoder.summary()"
   ]
  },
  {
   "cell_type": "code",
   "execution_count": 17,
   "metadata": {
    "execution": {
     "iopub.execute_input": "2021-02-25T05:16:25.075170Z",
     "iopub.status.busy": "2021-02-25T05:16:25.074516Z",
     "iopub.status.idle": "2021-02-25T05:16:27.823543Z",
     "shell.execute_reply": "2021-02-25T05:16:27.822239Z"
    },
    "papermill": {
     "duration": 5.509664,
     "end_time": "2021-02-25T05:16:27.823690",
     "exception": false,
     "start_time": "2021-02-25T05:16:22.314026",
     "status": "completed"
    },
    "tags": []
   },
   "outputs": [],
   "source": [
    "# encoder\n",
    "\n",
    "keras.backend.set_image_data_format('channels_last')\n",
    "\n",
    "i1 = Input(shape = (256,256,3))\n",
    "l1 = Conv2D(64, (3,3), padding = 'same', activation = 'relu')(i1)\n",
    "l2 = Conv2D(64, (3,3), padding = 'same', activation = 'relu')(l1)\n",
    "l3 = MaxPooling2D(padding = 'same')(l2)\n",
    "l3 = Dropout(0.3)(l3)\n",
    "l4 = Conv2D(128, (3,3), padding = 'same', activation = 'relu')(l3)\n",
    "l5 = Conv2D(128, (3,3), padding = 'same', activation = 'relu')(l4)\n",
    "l6 = MaxPooling2D(padding = 'same')(l5)\n",
    "l7 = Conv2D(256, (3,3), padding = 'same', activation = 'relu')(l6)\n",
    "\n",
    "# decoder\n",
    "\n",
    "l8 = UpSampling2D()(l7)\n",
    "l9 = Conv2D(128, (3,3), padding = 'same', activation = 'relu')(l8)\n",
    "l10 = Conv2D(128, (3,3), padding = 'same', activation = 'relu')(l9)\n",
    "l11 = Add()([l5, l10])\n",
    "l12 = UpSampling2D()(l11)\n",
    "l13 = Conv2D(64, (3,3), padding = 'same', activation = 'relu')(l12)\n",
    "l14 = Conv2D(64, (3,3), padding = 'same', activation = 'relu')(l13)\n",
    "l15 = Add()([l14, l2])\n",
    "\n",
    "# final layer should have 3 channels which will help to reconstruct the image with better resolution\n",
    "l16 = Conv2D(3, (3,3), padding = 'same', activation = 'relu')(l15)\n",
    "\n",
    "autoencoder = Model(i1, l16)"
   ]
  },
  {
   "cell_type": "code",
   "execution_count": 18,
   "metadata": {
    "execution": {
     "iopub.execute_input": "2021-02-25T05:16:33.485136Z",
     "iopub.status.busy": "2021-02-25T05:16:33.482627Z",
     "iopub.status.idle": "2021-02-25T05:16:33.493467Z",
     "shell.execute_reply": "2021-02-25T05:16:33.492787Z"
    },
    "papermill": {
     "duration": 2.736521,
     "end_time": "2021-02-25T05:16:33.493643",
     "exception": false,
     "start_time": "2021-02-25T05:16:30.757122",
     "status": "completed"
    },
    "tags": []
   },
   "outputs": [
    {
     "name": "stdout",
     "output_type": "stream",
     "text": [
      "Model: \"model\"\n",
      "__________________________________________________________________________________________________\n",
      "Layer (type)                    Output Shape         Param #     Connected to                     \n",
      "==================================================================================================\n",
      "input_1 (InputLayer)            [(None, 256, 256, 3) 0                                            \n",
      "__________________________________________________________________________________________________\n",
      "conv2d (Conv2D)                 (None, 256, 256, 64) 1792        input_1[0][0]                    \n",
      "__________________________________________________________________________________________________\n",
      "conv2d_1 (Conv2D)               (None, 256, 256, 64) 36928       conv2d[0][0]                     \n",
      "__________________________________________________________________________________________________\n",
      "max_pooling2d (MaxPooling2D)    (None, 128, 128, 64) 0           conv2d_1[0][0]                   \n",
      "__________________________________________________________________________________________________\n",
      "dropout (Dropout)               (None, 128, 128, 64) 0           max_pooling2d[0][0]              \n",
      "__________________________________________________________________________________________________\n",
      "conv2d_2 (Conv2D)               (None, 128, 128, 128 73856       dropout[0][0]                    \n",
      "__________________________________________________________________________________________________\n",
      "conv2d_3 (Conv2D)               (None, 128, 128, 128 147584      conv2d_2[0][0]                   \n",
      "__________________________________________________________________________________________________\n",
      "max_pooling2d_1 (MaxPooling2D)  (None, 64, 64, 128)  0           conv2d_3[0][0]                   \n",
      "__________________________________________________________________________________________________\n",
      "conv2d_4 (Conv2D)               (None, 64, 64, 256)  295168      max_pooling2d_1[0][0]            \n",
      "__________________________________________________________________________________________________\n",
      "up_sampling2d (UpSampling2D)    (None, 128, 128, 256 0           conv2d_4[0][0]                   \n",
      "__________________________________________________________________________________________________\n",
      "conv2d_5 (Conv2D)               (None, 128, 128, 128 295040      up_sampling2d[0][0]              \n",
      "__________________________________________________________________________________________________\n",
      "conv2d_6 (Conv2D)               (None, 128, 128, 128 147584      conv2d_5[0][0]                   \n",
      "__________________________________________________________________________________________________\n",
      "add (Add)                       (None, 128, 128, 128 0           conv2d_3[0][0]                   \n",
      "                                                                 conv2d_6[0][0]                   \n",
      "__________________________________________________________________________________________________\n",
      "up_sampling2d_1 (UpSampling2D)  (None, 256, 256, 128 0           add[0][0]                        \n",
      "__________________________________________________________________________________________________\n",
      "conv2d_7 (Conv2D)               (None, 256, 256, 64) 73792       up_sampling2d_1[0][0]            \n",
      "__________________________________________________________________________________________________\n",
      "conv2d_8 (Conv2D)               (None, 256, 256, 64) 36928       conv2d_7[0][0]                   \n",
      "__________________________________________________________________________________________________\n",
      "add_1 (Add)                     (None, 256, 256, 64) 0           conv2d_8[0][0]                   \n",
      "                                                                 conv2d_1[0][0]                   \n",
      "__________________________________________________________________________________________________\n",
      "conv2d_9 (Conv2D)               (None, 256, 256, 3)  1731        add_1[0][0]                      \n",
      "==================================================================================================\n",
      "Total params: 1,110,403\n",
      "Trainable params: 1,110,403\n",
      "Non-trainable params: 0\n",
      "__________________________________________________________________________________________________\n"
     ]
    }
   ],
   "source": [
    "autoencoder.summary()"
   ]
  },
  {
   "cell_type": "code",
   "execution_count": 19,
   "metadata": {
    "execution": {
     "iopub.execute_input": "2021-02-25T05:16:39.182595Z",
     "iopub.status.busy": "2021-02-25T05:16:39.181794Z",
     "iopub.status.idle": "2021-02-25T05:16:39.184098Z",
     "shell.execute_reply": "2021-02-25T05:16:39.184515Z"
    },
    "papermill": {
     "duration": 3.006236,
     "end_time": "2021-02-25T05:16:39.184656",
     "exception": false,
     "start_time": "2021-02-25T05:16:36.178420",
     "status": "completed"
    },
    "tags": []
   },
   "outputs": [],
   "source": [
    "autoencoder.compile(optimizer = 'adadelta', loss = 'mean_squared_error')"
   ]
  },
  {
   "cell_type": "code",
   "execution_count": null,
   "metadata": {
    "_cell_guid": "79c7e3d0-c299-4dcb-8224-4455121ee9b0",
    "_uuid": "d629ff2d2480ee46fbb7e2d37f6b5fab8052498a",
    "papermill": {
     "duration": 2.735284,
     "end_time": "2021-02-25T05:16:45.130676",
     "exception": false,
     "start_time": "2021-02-25T05:16:42.395392",
     "status": "completed"
    },
    "tags": []
   },
   "outputs": [],
   "source": []
  },
  {
   "cell_type": "markdown",
   "metadata": {
    "papermill": {
     "duration": 2.70366,
     "end_time": "2021-02-25T05:16:50.495407",
     "exception": false,
     "start_time": "2021-02-25T05:16:47.791747",
     "status": "completed"
    },
    "tags": []
   },
   "source": [
    "## Training the Model"
   ]
  },
  {
   "cell_type": "code",
   "execution_count": 20,
   "metadata": {
    "execution": {
     "iopub.execute_input": "2021-02-25T05:16:56.102496Z",
     "iopub.status.busy": "2021-02-25T05:16:56.101800Z",
     "iopub.status.idle": "2021-02-25T07:52:27.431069Z",
     "shell.execute_reply": "2021-02-25T07:52:27.430627Z"
    },
    "papermill": {
     "duration": 9333.997681,
     "end_time": "2021-02-25T07:52:27.431210",
     "exception": false,
     "start_time": "2021-02-25T05:16:53.433529",
     "status": "completed"
    },
    "tags": []
   },
   "outputs": [
    {
     "name": "stderr",
     "output_type": "stream",
     "text": [
      "/opt/conda/lib/python3.7/site-packages/tensorflow/python/keras/engine/training.py:1844: UserWarning: `Model.fit_generator` is deprecated and will be removed in a future version. Please use `Model.fit`, which supports generators.\n",
      "  warnings.warn('`Model.fit_generator` is deprecated and '\n"
     ]
    },
    {
     "name": "stdout",
     "output_type": "stream",
     "text": [
      "Epoch 1/10\n",
      "2014/2014 [==============================] - 936s 462ms/step - loss: 0.2785\n",
      "Epoch 2/10\n",
      "2014/2014 [==============================] - 930s 462ms/step - loss: 0.0108\n",
      "Epoch 3/10\n",
      "2014/2014 [==============================] - 930s 462ms/step - loss: 0.0081\n",
      "Epoch 4/10\n",
      "2014/2014 [==============================] - 931s 462ms/step - loss: 0.0066\n",
      "Epoch 5/10\n",
      "2014/2014 [==============================] - 933s 463ms/step - loss: 0.0056\n",
      "Epoch 6/10\n",
      "2014/2014 [==============================] - 933s 463ms/step - loss: 0.0048\n",
      "Epoch 7/10\n",
      "2014/2014 [==============================] - 947s 470ms/step - loss: 0.0044\n",
      "Epoch 8/10\n",
      "2014/2014 [==============================] - 930s 462ms/step - loss: 0.0040\n",
      "Epoch 9/10\n",
      "2014/2014 [==============================] - 929s 461ms/step - loss: 0.0037\n",
      "Epoch 10/10\n",
      "2014/2014 [==============================] - 931s 462ms/step - loss: 0.0034\n"
     ]
    },
    {
     "data": {
      "text/plain": [
       "<tensorflow.python.keras.callbacks.History at 0x7fd510135450>"
      ]
     },
     "execution_count": 20,
     "metadata": {},
     "output_type": "execute_result"
    }
   ],
   "source": [
    "autoencoder.fit_generator(fetch_data_generator(files, 32), steps_per_epoch = len(files)//32, epochs = 10)"
   ]
  },
  {
   "cell_type": "code",
   "execution_count": 21,
   "metadata": {
    "execution": {
     "iopub.execute_input": "2021-02-25T07:52:44.549823Z",
     "iopub.status.busy": "2021-02-25T07:52:44.548966Z",
     "iopub.status.idle": "2021-02-25T07:52:44.612512Z",
     "shell.execute_reply": "2021-02-25T07:52:44.612043Z"
    },
    "papermill": {
     "duration": 8.720638,
     "end_time": "2021-02-25T07:52:44.612631",
     "exception": false,
     "start_time": "2021-02-25T07:52:35.891993",
     "status": "completed"
    },
    "tags": []
   },
   "outputs": [],
   "source": [
    "autoencoder.save('trained_10epochs.h5')"
   ]
  },
  {
   "cell_type": "code",
   "execution_count": 22,
   "metadata": {
    "execution": {
     "iopub.execute_input": "2021-02-25T07:53:00.674560Z",
     "iopub.status.busy": "2021-02-25T07:53:00.673664Z",
     "iopub.status.idle": "2021-02-25T07:53:00.676393Z",
     "shell.execute_reply": "2021-02-25T07:53:00.675930Z"
    },
    "papermill": {
     "duration": 7.901707,
     "end_time": "2021-02-25T07:53:00.676552",
     "exception": false,
     "start_time": "2021-02-25T07:52:52.774845",
     "status": "completed"
    },
    "tags": []
   },
   "outputs": [],
   "source": [
    "# Load Model\n",
    "# uncomment to load the model with supplied weights & config, i.e., hdf5\n",
    "\n",
    "#trained_model = keras.models.load_model('my_model.h5')"
   ]
  },
  {
   "cell_type": "code",
   "execution_count": null,
   "metadata": {
    "papermill": {
     "duration": 8.703942,
     "end_time": "2021-02-25T07:53:17.668881",
     "exception": false,
     "start_time": "2021-02-25T07:53:08.964939",
     "status": "completed"
    },
    "tags": []
   },
   "outputs": [],
   "source": []
  }
 ],
 "metadata": {
  "kernelspec": {
   "display_name": "Python 3",
   "language": "python",
   "name": "python3"
  },
  "language_info": {
   "codemirror_mode": {
    "name": "ipython",
    "version": 3
   },
   "file_extension": ".py",
   "mimetype": "text/x-python",
   "name": "python",
   "nbconvert_exporter": "python",
   "pygments_lexer": "ipython3",
   "version": "3.7.9"
  },
  "papermill": {
   "default_parameters": {},
   "duration": 9826.092643,
   "end_time": "2021-02-25T07:53:28.881899",
   "environment_variables": {},
   "exception": null,
   "input_path": "__notebook__.ipynb",
   "output_path": "__notebook__.ipynb",
   "parameters": {},
   "start_time": "2021-02-25T05:09:42.789256",
   "version": "2.2.2"
  }
 },
 "nbformat": 4,
 "nbformat_minor": 4
}
